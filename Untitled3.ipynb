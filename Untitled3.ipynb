{
  "nbformat": 4,
  "nbformat_minor": 0,
  "metadata": {
    "colab": {
      "provenance": [],
      "authorship_tag": "ABX9TyOhKF+rdECo7llQPV+JtmzB",
      "include_colab_link": true
    },
    "kernelspec": {
      "name": "python3",
      "display_name": "Python 3"
    },
    "language_info": {
      "name": "python"
    }
  },
  "cells": [
    {
      "cell_type": "markdown",
      "metadata": {
        "id": "view-in-github",
        "colab_type": "text"
      },
      "source": [
        "<a href=\"https://colab.research.google.com/github/peternjathi/matplotlib-projects/blob/main/Untitled3.ipynb\" target=\"_parent\"><img src=\"https://colab.research.google.com/assets/colab-badge.svg\" alt=\"Open In Colab\"/></a>"
      ]
    },
    {
      "cell_type": "code",
      "execution_count": 1,
      "metadata": {
        "colab": {
          "base_uri": "https://localhost:8080/"
        },
        "id": "-Y15L8ztRc7w",
        "outputId": "a47ea54b-d3b9-419d-a16a-3d080e9627bb"
      },
      "outputs": [
        {
          "output_type": "stream",
          "name": "stdout",
          "text": [
            " Enter your name peter\n",
            "Hello, peter!\n"
          ]
        }
      ],
      "source": [
        "person = input(\" Enter your name \")\n",
        "message = \"Hello, {}!\".format(person)\n",
        "print(message)"
      ]
    },
    {
      "cell_type": "code",
      "source": [
        "pip install numpy"
      ],
      "metadata": {
        "colab": {
          "base_uri": "https://localhost:8080/"
        },
        "id": "iV7Epr0wSYUQ",
        "outputId": "24f3bccb-b38d-425a-f8dd-bd04aaafbabf"
      },
      "execution_count": 2,
      "outputs": [
        {
          "output_type": "stream",
          "name": "stdout",
          "text": [
            "Requirement already satisfied: numpy in /usr/local/lib/python3.10/dist-packages (1.23.5)\n"
          ]
        }
      ]
    },
    {
      "cell_type": "code",
      "source": [
        "import numpy as np\n",
        "import matplotlib.pyplot as plt\n",
        "from scipy.stats import norm\n"
      ],
      "metadata": {
        "id": "jw-zZmigSpuP"
      },
      "execution_count": 5,
      "outputs": []
    },
    {
      "cell_type": "code",
      "source": [
        "mean = 10\n",
        "std_dev = 10\n",
        "size =     20\n",
        "normal_distribution = np.random.normal(mean, std_dev, size)\n",
        "print(normal_distribution)"
      ],
      "metadata": {
        "colab": {
          "base_uri": "https://localhost:8080/"
        },
        "id": "lQW9EDdnVHkW",
        "outputId": "bff42bd6-a78a-4859-f8ea-774e595f66e7"
      },
      "execution_count": 6,
      "outputs": [
        {
          "output_type": "stream",
          "name": "stdout",
          "text": [
            "[ 1.645113   35.78291577 20.33871394  2.21650668 24.24938644 15.37155149\n",
            "  5.19614786 21.45056481  2.55660655 16.16476057  4.93161389 15.4666158\n",
            "  3.16641434  9.34421076 19.03108804 -1.14652716  6.70450953 20.75497287\n",
            "  6.59751958 15.22922453]\n"
          ]
        }
      ]
    }
  ]
}